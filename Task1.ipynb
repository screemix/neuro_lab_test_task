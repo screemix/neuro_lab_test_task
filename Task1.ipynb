{
  "nbformat": 4,
  "nbformat_minor": 0,
  "metadata": {
    "colab": {
      "name": "Task1.ipynb",
      "provenance": [],
      "collapsed_sections": [],
      "toc_visible": true
    },
    "kernelspec": {
      "name": "python3",
      "display_name": "Python 3"
    }
  },
  "cells": [
    {
      "cell_type": "markdown",
      "metadata": {
        "id": "gxCp2b0o9Yr4"
      },
      "source": [
        "Тестовое задание выполнила Чепурова Алла\n",
        "\n",
        "chepurova@bk.ru, Telegram - @Screemix"
      ]
    },
    {
      "cell_type": "markdown",
      "metadata": {
        "id": "y_pHyat19vEu"
      },
      "source": [
        "# Задание #1: Тест на скорочтение\n",
        "\n"
      ]
    },
    {
      "cell_type": "markdown",
      "metadata": {
        "id": "W2cVeNYY-SXR"
      },
      "source": [
        "#### Считывание и препроцессинг данных:"
      ]
    },
    {
      "cell_type": "code",
      "metadata": {
        "id": "qOP6vkIIijym"
      },
      "source": [
        "############ Импорт необходимых библиотек ############\n",
        "import pandas as pd\n",
        "import numpy as np\n",
        "import scipy\n",
        "import scipy.stats as stats\n",
        "import warnings\n",
        "import statsmodels.stats.multitest as test\n",
        "warnings.filterwarnings(\"ignore\")"
      ],
      "execution_count": null,
      "outputs": []
    },
    {
      "cell_type": "code",
      "metadata": {
        "id": "VsDaDdbNs4y5"
      },
      "source": [
        "############ Считывание двух таблиц в датафреймы ############\n",
        "df1 = pd.read_excel('/content/speedreading_data.xlsx', 'Данные по обучению', index_col=0)\n",
        "df2 = pd.read_excel('/content/speedreading_data.xlsx', 'Данные по сложности', index_col=0)\n",
        "\n",
        "############ Предобработка данных в датафреймах ############\n",
        "df1 = df1.iloc[1:, ]\n",
        "df2 = df2.iloc[1:, ]\n",
        "df1.rename(columns={name : i+1 for i, name in enumerate(df1.columns)}, inplace=True)\n",
        "df2.rename(columns={name : i+11 for i, name in enumerate(df2.columns)}, inplace=True)"
      ],
      "execution_count": null,
      "outputs": []
    },
    {
      "cell_type": "code",
      "metadata": {
        "id": "A-HK4FVms7g-",
        "colab": {
          "base_uri": "https://localhost:8080/",
          "height": 359
        },
        "outputId": "bef90d68-addf-4f09-b204-bdfcc99f8b71"
      },
      "source": [
        "############ Просмотр получившихся таблиц ############\n",
        "df1"
      ],
      "execution_count": null,
      "outputs": [
        {
          "output_type": "execute_result",
          "data": {
            "text/html": [
              "<div>\n",
              "<style scoped>\n",
              "    .dataframe tbody tr th:only-of-type {\n",
              "        vertical-align: middle;\n",
              "    }\n",
              "\n",
              "    .dataframe tbody tr th {\n",
              "        vertical-align: top;\n",
              "    }\n",
              "\n",
              "    .dataframe thead th {\n",
              "        text-align: right;\n",
              "    }\n",
              "</style>\n",
              "<table border=\"1\" class=\"dataframe\">\n",
              "  <thead>\n",
              "    <tr style=\"text-align: right;\">\n",
              "      <th></th>\n",
              "      <th>1</th>\n",
              "      <th>2</th>\n",
              "      <th>3</th>\n",
              "      <th>4</th>\n",
              "      <th>5</th>\n",
              "      <th>6</th>\n",
              "      <th>7</th>\n",
              "      <th>8</th>\n",
              "      <th>9</th>\n",
              "      <th>10</th>\n",
              "    </tr>\n",
              "  </thead>\n",
              "  <tbody>\n",
              "    <tr>\n",
              "      <th>A</th>\n",
              "      <td>4</td>\n",
              "      <td>2</td>\n",
              "      <td>4</td>\n",
              "      <td>4</td>\n",
              "      <td>2</td>\n",
              "      <td>3</td>\n",
              "      <td>1</td>\n",
              "      <td>1</td>\n",
              "      <td>3</td>\n",
              "      <td>2</td>\n",
              "    </tr>\n",
              "    <tr>\n",
              "      <th>B</th>\n",
              "      <td>5</td>\n",
              "      <td>4</td>\n",
              "      <td>5</td>\n",
              "      <td>3</td>\n",
              "      <td>2</td>\n",
              "      <td>4</td>\n",
              "      <td>2</td>\n",
              "      <td>1</td>\n",
              "      <td>2</td>\n",
              "      <td>2</td>\n",
              "    </tr>\n",
              "    <tr>\n",
              "      <th>C</th>\n",
              "      <td>5</td>\n",
              "      <td>3</td>\n",
              "      <td>3</td>\n",
              "      <td>2</td>\n",
              "      <td>1</td>\n",
              "      <td>5</td>\n",
              "      <td>4</td>\n",
              "      <td>1</td>\n",
              "      <td>3</td>\n",
              "      <td>3</td>\n",
              "    </tr>\n",
              "    <tr>\n",
              "      <th>D</th>\n",
              "      <td>5</td>\n",
              "      <td>4</td>\n",
              "      <td>4</td>\n",
              "      <td>2</td>\n",
              "      <td>4</td>\n",
              "      <td>5</td>\n",
              "      <td>4</td>\n",
              "      <td>2</td>\n",
              "      <td>3</td>\n",
              "      <td>2</td>\n",
              "    </tr>\n",
              "    <tr>\n",
              "      <th>E</th>\n",
              "      <td>5</td>\n",
              "      <td>5</td>\n",
              "      <td>4</td>\n",
              "      <td>3</td>\n",
              "      <td>3</td>\n",
              "      <td>5</td>\n",
              "      <td>3</td>\n",
              "      <td>2</td>\n",
              "      <td>1</td>\n",
              "      <td>1</td>\n",
              "    </tr>\n",
              "    <tr>\n",
              "      <th>F</th>\n",
              "      <td>5</td>\n",
              "      <td>3</td>\n",
              "      <td>4</td>\n",
              "      <td>1</td>\n",
              "      <td>1</td>\n",
              "      <td>4</td>\n",
              "      <td>5</td>\n",
              "      <td>2</td>\n",
              "      <td>3</td>\n",
              "      <td>2</td>\n",
              "    </tr>\n",
              "    <tr>\n",
              "      <th>G</th>\n",
              "      <td>5</td>\n",
              "      <td>2</td>\n",
              "      <td>4</td>\n",
              "      <td>3</td>\n",
              "      <td>3</td>\n",
              "      <td>3</td>\n",
              "      <td>3</td>\n",
              "      <td>0</td>\n",
              "      <td>4</td>\n",
              "      <td>3</td>\n",
              "    </tr>\n",
              "    <tr>\n",
              "      <th>H</th>\n",
              "      <td>5</td>\n",
              "      <td>4</td>\n",
              "      <td>4</td>\n",
              "      <td>3</td>\n",
              "      <td>2</td>\n",
              "      <td>4</td>\n",
              "      <td>2</td>\n",
              "      <td>2</td>\n",
              "      <td>3</td>\n",
              "      <td>3</td>\n",
              "    </tr>\n",
              "    <tr>\n",
              "      <th>I</th>\n",
              "      <td>5</td>\n",
              "      <td>2</td>\n",
              "      <td>2</td>\n",
              "      <td>2</td>\n",
              "      <td>2</td>\n",
              "      <td>4</td>\n",
              "      <td>3</td>\n",
              "      <td>3</td>\n",
              "      <td>4</td>\n",
              "      <td>3</td>\n",
              "    </tr>\n",
              "    <tr>\n",
              "      <th>J</th>\n",
              "      <td>5</td>\n",
              "      <td>3</td>\n",
              "      <td>2</td>\n",
              "      <td>4</td>\n",
              "      <td>2</td>\n",
              "      <td>3</td>\n",
              "      <td>4</td>\n",
              "      <td>4</td>\n",
              "      <td>3</td>\n",
              "      <td>2</td>\n",
              "    </tr>\n",
              "  </tbody>\n",
              "</table>\n",
              "</div>"
            ],
            "text/plain": [
              "  1  2  3  4  5  6  7  8  9  10\n",
              "A  4  2  4  4  2  3  1  1  3  2\n",
              "B  5  4  5  3  2  4  2  1  2  2\n",
              "C  5  3  3  2  1  5  4  1  3  3\n",
              "D  5  4  4  2  4  5  4  2  3  2\n",
              "E  5  5  4  3  3  5  3  2  1  1\n",
              "F  5  3  4  1  1  4  5  2  3  2\n",
              "G  5  2  4  3  3  3  3  0  4  3\n",
              "H  5  4  4  3  2  4  2  2  3  3\n",
              "I  5  2  2  2  2  4  3  3  4  3\n",
              "J  5  3  2  4  2  3  4  4  3  2"
            ]
          },
          "metadata": {
            "tags": []
          },
          "execution_count": 7
        }
      ]
    },
    {
      "cell_type": "markdown",
      "metadata": {
        "id": "Q0ZpxZ7Z-dtt"
      },
      "source": [
        "#### **Вопрос 1:**\n",
        "*В предположении Y1 = Y2, влияет ли обучение на качество восприятия информации?*"
      ]
    },
    {
      "cell_type": "code",
      "metadata": {
        "id": "nXSHsTEhtMkS"
      },
      "source": [
        "############ Аггрегирование данных до и после обучения в соответствующие массивы ############\n",
        "Y1 = []\n",
        "for i in range(0,5):\n",
        "  Y1 += list(df1.iloc[:, i])\n",
        "\n",
        "Y2 = []\n",
        "for i in range(5,10):\n",
        "  Y2 += list(df1.iloc[:, i])"
      ],
      "execution_count": null,
      "outputs": []
    },
    {
      "cell_type": "code",
      "metadata": {
        "id": "h4Xi5EmURhak",
        "colab": {
          "base_uri": "https://localhost:8080/"
        },
        "outputId": "35fd2833-6782-4797-a0c2-f18131d14ed7"
      },
      "source": [
        "############ Проверка данных на нормальность ############\n",
        "print(stats.normaltest(Y1))\n",
        "print(stats.normaltest(Y2))"
      ],
      "execution_count": null,
      "outputs": [
        {
          "output_type": "stream",
          "text": [
            "NormaltestResult(statistic=10.406597731455648, pvalue=0.005498395999525369)\n",
            "NormaltestResult(statistic=0.333846935349947, pvalue=0.8462643754391225)\n"
          ],
          "name": "stdout"
        }
      ]
    },
    {
      "cell_type": "markdown",
      "metadata": {
        "id": "R-koaqy2-4kE"
      },
      "source": [
        "P-values больше значительного уровня (0.05), мы можем убедиться, что наши выборки принадлежат нормальным распределениям. Следующий шаг - сравнение средних и постановка нулевой гипотезы -> avg(Y1) = avg(Y2).\n",
        "\n"
      ]
    },
    {
      "cell_type": "code",
      "metadata": {
        "colab": {
          "base_uri": "https://localhost:8080/"
        },
        "id": "oGms4luj6Ims",
        "outputId": "ab94409b-ef74-405e-c739-4a47919ee93e"
      },
      "source": [
        "mean_y1 = scipy.mean(Y1)\n",
        "mean_y2 = scipy.mean(Y2)\n",
        "print(mean_y1, mean_y2)"
      ],
      "execution_count": null,
      "outputs": [
        {
          "output_type": "stream",
          "text": [
            "3.32 2.82\n"
          ],
          "name": "stdout"
        }
      ]
    },
    {
      "cell_type": "markdown",
      "metadata": {
        "id": "6Y3U7_a-D-Y3"
      },
      "source": [
        "Фактические средние показывают, что после обучения качество прохождения тестов у респондентов гипотетически ухудшилось.\n",
        "\n"
      ]
    },
    {
      "cell_type": "code",
      "metadata": {
        "colab": {
          "base_uri": "https://localhost:8080/"
        },
        "id": "sUbOsfjxhJHQ",
        "outputId": "3a1c3294-678b-4985-879f-4c683f9f0df8"
      },
      "source": [
        "H0 = stats.ttest_ind(Y1, Y2)\n",
        "print(H1)\n",
        "# нулевая гипотеза отвергается"
      ],
      "execution_count": null,
      "outputs": [
        {
          "output_type": "stream",
          "text": [
            "Ttest_indResult(statistic=3.512134447752516, pvalue=0.0007426060410754974)\n"
          ],
          "name": "stdout"
        }
      ]
    },
    {
      "cell_type": "markdown",
      "metadata": {
        "id": "z26vMNFSFBV7"
      },
      "source": [
        "Таким образом, Т-тест показал нам, что вероятность наблюдать такую большую фактическую разницу между выборками будет равна всего p = 0.043 < 0.05, что меньше значительного уровня. Значит, при предположении Y1=Y2 будет верным, что качество прохождения теста на Y2 ухудшится."
      ]
    },
    {
      "cell_type": "markdown",
      "metadata": {
        "id": "oaEOVMWmFteW"
      },
      "source": [
        "**Вопрос 2:**\n",
        "\n",
        "В предположении Y3 < Y4, влияет ли сложность задания на качество восприятия информации?"
      ]
    },
    {
      "cell_type": "code",
      "metadata": {
        "id": "lktGdRLdzd5z"
      },
      "source": [
        "############ Аггрегирование данных категорий \"легко\" и \"сложно\"\"  в соответствующие массивы ############\n",
        "Y3 = []\n",
        "for i in range(0,5):\n",
        "  Y3 += list(df2.iloc[:, i])\n",
        "\n",
        "Y4 = []\n",
        "for i in range(5,10):\n",
        "  Y4 += list(df2.iloc[:, i])"
      ],
      "execution_count": null,
      "outputs": []
    },
    {
      "cell_type": "code",
      "metadata": {
        "colab": {
          "base_uri": "https://localhost:8080/"
        },
        "id": "zsj6Vnq38RxL",
        "outputId": "d9af4e76-8d59-4a1c-8438-c531125140a4"
      },
      "source": [
        "############ Проверка данных на нормальность ############\n",
        "print(stats.normaltest(Y3))\n",
        "print(stats.normaltest(Y4))"
      ],
      "execution_count": null,
      "outputs": [
        {
          "output_type": "stream",
          "text": [
            "NormaltestResult(statistic=8.524610571180837, pvalue=0.014089783966465293)\n",
            "NormaltestResult(statistic=1.9152715159441533, pvalue=0.38379920838893006)\n"
          ],
          "name": "stdout"
        }
      ]
    },
    {
      "cell_type": "markdown",
      "metadata": {
        "id": "lUlgez8dGaPA"
      },
      "source": [
        "Таким образом, мы можем убедиться, что наши выборки принадлежат нормальным распределениям. Следующий шаг - сравнение средних и постановка нулевой гипотезы -> avg(Y3) = avg(Y4)."
      ]
    },
    {
      "cell_type": "code",
      "metadata": {
        "colab": {
          "base_uri": "https://localhost:8080/"
        },
        "id": "gFciPvPN8UoZ",
        "outputId": "9a08921d-03a0-4785-daea-532df879dac2"
      },
      "source": [
        "mean_y3 = scipy.mean(Y3)\n",
        "mean_y4 = scipy.mean(Y4)\n",
        "print(mean_y3, mean_y4)"
      ],
      "execution_count": null,
      "outputs": [
        {
          "output_type": "stream",
          "text": [
            "4.35 3.625\n"
          ],
          "name": "stdout"
        }
      ]
    },
    {
      "cell_type": "markdown",
      "metadata": {
        "id": "UvFIAFdkGuIQ"
      },
      "source": [
        "Фактические средние показывают, что после обучения качество прохождения тестов у респондентов гипотетически ухудшилось на множестве заданий помеченных как \"сложные\". То есть, предположительно качество восприятия понижаается с повышением сложности. \n",
        "\n",
        "Для того, чтобы убедиться в этом, проверим нашу нулевую гипотезу avg(Y3) = avg(Y4) с помощью Т-теста Стьюдента:"
      ]
    },
    {
      "cell_type": "code",
      "metadata": {
        "colab": {
          "base_uri": "https://localhost:8080/"
        },
        "id": "jTEMtiyb8daW",
        "outputId": "633ff36c-39d4-4ad0-b6b6-5e8ae8dad0de"
      },
      "source": [
        "H1 = stats.ttest_ind(Y3, Y4)\n",
        "print(H1)"
      ],
      "execution_count": null,
      "outputs": [
        {
          "output_type": "stream",
          "text": [
            "Ttest_indResult(statistic=3.512134447752516, pvalue=0.0007426060410754974)\n"
          ],
          "name": "stdout"
        }
      ]
    },
    {
      "cell_type": "markdown",
      "metadata": {
        "id": "YFZcaXehHbgo"
      },
      "source": [
        "Таким образом, Т-тест показал нам, что вероятность наблюдать такую большую фактическую разницу между результатами выполнения задания в двух выбоках будет равна всего p = 0.0007 < 0.05, что меньше значительного уровня. Значит, при предположении Y3<Y4 будет верным утверждать, что сложность задач ухудшает качество восприятия."
      ]
    },
    {
      "cell_type": "markdown",
      "metadata": {
        "id": "1KKA7Z-rMjuv"
      },
      "source": [
        "**Задание 3**\n",
        "*Как можно (и можно ли вообще) использовать результаты второй группы (I-P) для корректировки результатов первой группы (A-J)?*\n",
        "*Y1=Y3, Y2=Y4, Y1<Y2*\n",
        "\n",
        "Дополнительную выборку респондентов (I-P) можно использовать в тесте Бонферони для проверки возможности наличия ошибки первого рода в задании 1."
      ]
    },
    {
      "cell_type": "code",
      "metadata": {
        "id": "ShEsCrAIHKQa"
      },
      "source": [
        "rejected = test.multipletests([H0.pvalue, H1.pvalue], alpha=0.05)"
      ],
      "execution_count": null,
      "outputs": []
    },
    {
      "cell_type": "code",
      "metadata": {
        "colab": {
          "base_uri": "https://localhost:8080/"
        },
        "id": "hm1hYMsQM06p",
        "outputId": "8da65e88-7e6c-4c0b-ce23-7deeaf4cac27"
      },
      "source": [
        "if rejected[0][0]:\n",
        "  print(\"Null hypothesis 0 should be rejected\")"
      ],
      "execution_count": null,
      "outputs": [
        {
          "output_type": "stream",
          "text": [
            "Null hypothesis 0 should be rejected\n"
          ],
          "name": "stdout"
        }
      ]
    },
    {
      "cell_type": "markdown",
      "metadata": {
        "id": "N3ph3NhePtLd"
      },
      "source": [
        "То есть вывод из задания 1 должен быть верен."
      ]
    }
  ]
}